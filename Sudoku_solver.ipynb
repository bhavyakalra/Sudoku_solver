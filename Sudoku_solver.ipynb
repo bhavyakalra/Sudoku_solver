{
 "cells": [
  {
   "cell_type": "code",
   "execution_count": 1,
   "metadata": {},
   "outputs": [],
   "source": [
    "import cv2\n",
    "import math\n",
    "import copy\n",
    "from scipy import ndimage\n",
    "import solver\n",
    "from solver import *\n",
    "\n",
    "\n",
    "import pytesseract\n",
    "pytesseract.pytesseract.tesseract_cmd = 'C:/Program Files/Tesseract-OCR/tesseract.exe'\n",
    "import keyboard"
   ]
  },
  {
   "cell_type": "code",
   "execution_count": 2,
   "metadata": {},
   "outputs": [],
   "source": [
    "import utils\n",
    "from utils import *"
   ]
  },
  {
   "cell_type": "code",
   "execution_count": 3,
   "metadata": {},
   "outputs": [],
   "source": [
    "# Init grid to store Sudoku Board digits\n",
    "SIZE = 9\n",
    "grid = []\n",
    "for i in range(SIZE):\n",
    "    row = []\n",
    "    for j in range(SIZE):\n",
    "        row.append(0)\n",
    "    grid.append(row)\n",
    "   "
   ]
  },
  {
   "cell_type": "code",
   "execution_count": 4,
   "metadata": {},
   "outputs": [
    {
     "name": "stdout",
     "output_type": "stream",
     "text": [
      "Contor detected\n",
      "Image Extracted detected\n",
      "Contor detected\n",
      "Image Extracted detected\n",
      "Contor detected\n",
      "Image Extracted detected\n",
      "Contor detected\n",
      "Image Extracted detected\n"
     ]
    }
   ],
   "source": [
    "import cv2\n",
    "import operator\n",
    "\n",
    "margin = 10\n",
    "case = 28 + 2*margin\n",
    "perspective_size = 9*case\n",
    "\n",
    "flag = 0\n",
    "ans = 0\n",
    "\n",
    "cap = cv2.VideoCapture(0)\n",
    "\n",
    "old_sudoku = None\n",
    "\n",
    "while(True):\n",
    "    ret, frame = cap.read()\n",
    "    p_frame = frame.copy()\n",
    "    \n",
    "    gray = cv2.cvtColor(frame, cv2.COLOR_BGR2GRAY)\n",
    "     \n",
    "    gray = cv2.GaussianBlur(gray, (5,5), 0)\n",
    "    thresh = cv2.adaptiveThreshold(gray,255,cv2.ADAPTIVE_THRESH_GAUSSIAN_C,\\\n",
    "                cv2.THRESH_BINARY,11,2)\n",
    "    \n",
    "    contour,hier = cv2.findContours(thresh,cv2.RETR_TREE,cv2.CHAIN_APPROX_SIMPLE)\n",
    "    contour_grille = None\n",
    "    maxArea = 0\n",
    "    for c in contour:\n",
    "        area = cv2.contourArea(c)\n",
    "        if area > 30000:\n",
    "            peri = cv2.arcLength(c, True)\n",
    "            polygone = cv2.approxPolyDP(c, 0.01 * peri, True)\n",
    "            if area > maxArea and len(polygone) == 4:\n",
    "                contour_grille = polygone\n",
    "                maxArea = area\n",
    "    if contour_grille is not None:\n",
    "        cv2.drawContours(frame, [contour_grille], 0, (0, 255, 0), 2)\n",
    "        if keyboard.is_pressed('o'):\n",
    "            print('Contor detected')\n",
    "\n",
    "            corners = get_corners_from_contours(contour_grille, 4)\n",
    "\n",
    "            pts1=np.float32(sort_corners(corners))\n",
    "            (tl, tr, br, bl) = pts1\n",
    "            width_A = np.sqrt(((br[0] - bl[0]) ** 2) + ((br[1] - bl[1]) ** 2))\n",
    "            width_B = np.sqrt(((tr[0] - tl[0]) ** 2) + ((tr[1] - tl[1]) ** 2))\n",
    "\n",
    "            # the height of our Sudoku board\n",
    "            height_A = np.sqrt(((tr[0] - br[0]) ** 2) + ((tr[1] - br[1]) ** 2))\n",
    "            height_B = np.sqrt(((tl[0] - bl[0]) ** 2) + ((tl[1] - bl[1]) ** 2))\n",
    "\n",
    "            # take the maximum of the width and height values to reach\n",
    "            # our final dimensions\n",
    "            max_width = max(int(width_A), int(width_B))\n",
    "            max_height = max(int(height_A), int(height_B))\n",
    "\n",
    "            # construct our destination points which will be used to\n",
    "            # map the screen to a top-down, \"birds eye\" view\n",
    "            dst = np.array([\n",
    "           [0, 0],\n",
    "            [max_width - 1, 0],\n",
    "          [max_width - 1, max_height - 1],\n",
    "            [0, max_height - 1]], dtype = \"float32\")\n",
    "\n",
    "            # calculate the perspective transform matrix and warp\n",
    "            # the perspective to grab the screen\n",
    "            perspective_transformed_matrix = cv2.getPerspectiveTransform(pts1, dst)\n",
    "            warp = cv2.warpPerspective(frame, perspective_transformed_matrix, (max_width, max_height))\n",
    "            orginal_warp = np.copy(warp)\n",
    "            print('Image Extracted detected')\n",
    "\n",
    "    cv2.imshow('f',frame)\n",
    "    if cv2.waitKey(1) & 0xFF == ord('q'):\n",
    "            break\n",
    "\n",
    "cap.release()\n",
    "cv2.destroyAllWindows()     "
   ]
  },
  {
   "cell_type": "code",
   "execution_count": 5,
   "metadata": {},
   "outputs": [
    {
     "data": {
      "text/plain": [
       "-1"
      ]
     },
     "execution_count": 5,
     "metadata": {},
     "output_type": "execute_result"
    }
   ],
   "source": [
    "cv2.imshow('p',warp)\n",
    "cv2.waitKey(0)"
   ]
  },
  {
   "cell_type": "code",
   "execution_count": 6,
   "metadata": {},
   "outputs": [],
   "source": [
    "\n",
    "p_window = cv2.cvtColor(warp, cv2.COLOR_BGR2GRAY)\n",
    "p_window = cv2.GaussianBlur(p_window, (5,5), 0)\n",
    "p_window = cv2.adaptiveThreshold(p_window, 255, cv2.ADAPTIVE_THRESH_GAUSSIAN_C, cv2.THRESH_BINARY_INV,11, 2)\n",
    "p= cv2.bitwise_not(p_window)\n",
    "_,p = cv2.threshold(p, 200, 255, cv2.THRESH_BINARY)"
   ]
  },
  {
   "cell_type": "code",
   "execution_count": 7,
   "metadata": {},
   "outputs": [
    {
     "data": {
      "text/plain": [
       "-1"
      ]
     },
     "execution_count": 7,
     "metadata": {},
     "output_type": "execute_result"
    }
   ],
   "source": [
    "cv2.imshow('p',p)\n",
    "cv2.waitKey(0)"
   ]
  },
  {
   "cell_type": "code",
   "execution_count": 8,
   "metadata": {},
   "outputs": [],
   "source": [
    "height =p.shape[0] // 9\n",
    "width =p.shape[1] // 9\n",
    "\n",
    "offset_width = math.floor(width / 10)    # Offset is used to get rid of the boundaries\n",
    "offset_height = math.floor(height / 10)"
   ]
  },
  {
   "cell_type": "code",
   "execution_count": 11,
   "metadata": {
    "scrolled": true
   },
   "outputs": [
    {
     "ename": "ValueError",
     "evalue": "invalid literal for int() with base 10: '\\x0c'",
     "output_type": "error",
     "traceback": [
      "\u001b[1;31m---------------------------------------------------------------------------\u001b[0m",
      "\u001b[1;31mValueError\u001b[0m                                Traceback (most recent call last)",
      "\u001b[1;32m<ipython-input-11-47400f53198f>\u001b[0m in \u001b[0;36m<module>\u001b[1;34m\u001b[0m\n\u001b[0;32m     78\u001b[0m \u001b[1;33m\u001b[0m\u001b[0m\n\u001b[0;32m     79\u001b[0m                 \u001b[1;32mif\u001b[0m \u001b[0mtype\u001b[0m\u001b[1;33m(\u001b[0m\u001b[0mgrid\u001b[0m\u001b[1;33m[\u001b[0m\u001b[0mi\u001b[0m\u001b[1;33m]\u001b[0m\u001b[1;33m[\u001b[0m\u001b[0mj\u001b[0m\u001b[1;33m]\u001b[0m\u001b[1;33m)\u001b[0m \u001b[1;32mis\u001b[0m \u001b[1;32mnot\u001b[0m \u001b[0mint\u001b[0m\u001b[1;33m:\u001b[0m\u001b[1;33m\u001b[0m\u001b[1;33m\u001b[0m\u001b[0m\n\u001b[1;32m---> 80\u001b[1;33m                     \u001b[0mgrid\u001b[0m\u001b[1;33m[\u001b[0m\u001b[0mi\u001b[0m\u001b[1;33m]\u001b[0m\u001b[1;33m[\u001b[0m\u001b[0mj\u001b[0m\u001b[1;33m]\u001b[0m\u001b[1;33m=\u001b[0m\u001b[0mint\u001b[0m\u001b[1;33m(\u001b[0m\u001b[0mgrid\u001b[0m\u001b[1;33m[\u001b[0m\u001b[0mi\u001b[0m\u001b[1;33m]\u001b[0m\u001b[1;33m[\u001b[0m\u001b[0mj\u001b[0m\u001b[1;33m]\u001b[0m\u001b[1;33m.\u001b[0m\u001b[0mreplace\u001b[0m\u001b[1;33m(\u001b[0m\u001b[1;34m'\\n\\x0c'\u001b[0m\u001b[1;33m,\u001b[0m \u001b[1;34m\"\"\u001b[0m\u001b[1;33m)\u001b[0m\u001b[1;33m)\u001b[0m\u001b[1;33m\u001b[0m\u001b[1;33m\u001b[0m\u001b[0m\n\u001b[0m",
      "\u001b[1;31mValueError\u001b[0m: invalid literal for int() with base 10: '\\x0c'"
     ]
    }
   ],
   "source": [
    "for i in range(SIZE):\n",
    "        for j in range(SIZE):\n",
    "                y2min = width*i+offset_width\n",
    "                y2max = width*(i+1)-offset_width\n",
    "                x2min = height*j+offset_height\n",
    "                x2max = height*(j+1)-offset_height\n",
    "\n",
    "                # Crop with offset (We don't want to include the boundaries)\n",
    "                crop_image = p[y2min:y2max,x2min:x2max]        \n",
    "\n",
    "                # There are still some boundary lines left though\n",
    "                # => Remove all black lines near the edges\n",
    "                # ratio = 0.6 => If 60% pixels are black, remove\n",
    "                # Notice as soon as we reach a line which is not a black line, the while loop stops\n",
    "                ratio = 0.6        \n",
    "                # Top\n",
    "                while np.sum(crop_image[0]) <= (1-ratio) * crop_image.shape[1] * 255:\n",
    "                    crop_image = crop_image[1:]\n",
    "                # Bottom\n",
    "                while np.sum(crop_image[:,-1]) <= (1-ratio) * crop_image.shape[1] * 255:\n",
    "                    crop_image = np.delete(crop_image, -1, 1)\n",
    "                # Left\n",
    "                while np.sum(crop_image[:,0]) <= (1-ratio) * crop_image.shape[0] * 255:\n",
    "                    crop_image = np.delete(crop_image, 0, 1)\n",
    "                # Right\n",
    "                while np.sum(crop_image[-1]) <= (1-ratio) * crop_image.shape[0] * 255:\n",
    "                    crop_image = crop_image[:-1]    \n",
    "\n",
    "                # Take the largestConnectedComponent (The digit), and remove all noises\n",
    "                crop_image = cv2.bitwise_not(crop_image)\n",
    "                crop_image = largest_connected_component(crop_image)\n",
    "\n",
    "                digit_pic_size=30\n",
    "                crop_image= cv2.resize(crop_image,(digit_pic_size,digit_pic_size))\n",
    "\n",
    "                # If this is a white cell, set grid[i][j] to 0 and continue on the next image:\n",
    "                # Criteria 1 for detecting white cell:\n",
    "                # Has too little black pixels\n",
    "                if crop_image.sum() >= digit_pic_size**2*255 - digit_pic_size * 1 * 255:\n",
    "                    grid[i][j] = 0\n",
    "                    continue\n",
    "\n",
    "\n",
    "            # Criteria 2 for detecting white cell\n",
    "                # Huge white area in the center\n",
    "                center_width = crop_image.shape[1] // 2\n",
    "                center_height = crop_image.shape[0] // 2\n",
    "                x_start = center_height // 2\n",
    "                x_end = center_height // 2 + center_height\n",
    "                y_start = center_width // 2\n",
    "                y_end = center_width // 2 + center_width\n",
    "                center_region = crop_image[x_start:x_end, y_start:y_end]\n",
    "\n",
    "                if center_region.sum() >= center_width * center_height * 255 - 255:\n",
    "                    grid[i][j] = 0\n",
    "                    continue\n",
    "\n",
    "                # Now we are quite certain that this crop_image contains a number\n",
    "\n",
    "                # Store the number of rows and cols\n",
    "                rows, cols = crop_image.shape \n",
    "                 # Apply Binary Threshold to make digits more clear\n",
    "                _, crop_image = cv2.threshold(crop_image, 200, 255, cv2.THRESH_BINARY)\n",
    "                crop_image = crop_image.astype(np.uint8)\n",
    "\n",
    "\n",
    "                crop_image = cv2.bitwise_not(crop_image)\n",
    "                shift_x, shift_y = get_best_shift(crop_image)\n",
    "                shifted = shift(crop_image,shift_x,shift_y)\n",
    "                crop_image = shifted\n",
    "                cv2.imwrite('Digit/'+str(i)+str(j)+'.png',crop_image)\n",
    "\n",
    "                crop_image = cv2.bitwise_not(crop_image)  \n",
    "\n",
    "                 # Recognize digits\n",
    "                prediction = pytesseract.image_to_string(crop_image, lang='eng', config='--psm 6')\n",
    "                grid[i][j] =prediction\n",
    "            \n",
    "                if type(grid[i][j]) is not int:\n",
    "                    grid[i][j]=int(grid[i][j].replace('\\n\\x0c', \"\"))"
   ]
  },
  {
   "cell_type": "code",
   "execution_count": 10,
   "metadata": {},
   "outputs": [],
   "source": [
    "def get_best_shift(img):\n",
    "    cy, cx = ndimage.measurements.center_of_mass(img)\n",
    "    rows, cols = img.shape\n",
    "    shiftx = np.round(cols/2.0-cx).astype(int)\n",
    "    shifty = np.round(rows/2.0-cy).astype(int)\n",
    "    return shiftx, shifty\n",
    "\n",
    "def shift(img,sx,sy):\n",
    "    rows,cols = img.shape\n",
    "    M = np.float32([[1,0,sx],[0,1,sy]])\n",
    "    shifted = cv2.warpAffine(img,M,(cols,rows))\n",
    "    return shifted"
   ]
  },
  {
   "cell_type": "code",
   "execution_count": 19,
   "metadata": {},
   "outputs": [
    {
     "data": {
      "text/plain": [
       "[[5, 3, 0, 0, 7, 0, 0, 0, 0],\n",
       " [6, 0, 0, 1, 9, 5, 0, 0, 0],\n",
       " [0, 9, 8, 0, 0, 0, 0, 6, 0],\n",
       " [8, 0, 0, 0, 6, 0, 0, 0, 3],\n",
       " [4, 0, 0, 8, 0, 3, 0, 0, 1],\n",
       " [7, 0, 0, 0, 2, 0, 0, 0, 6],\n",
       " [0, 6, 0, 0, 0, 0, 2, 8, 0],\n",
       " [0, 0, 0, 4, 1, 9, 0, 0, 5],\n",
       " [0, 0, 0, 0, 8, 0, 0, 7, 9]]"
      ]
     },
     "execution_count": 19,
     "metadata": {},
     "output_type": "execute_result"
    }
   ],
   "source": [
    "grid"
   ]
  },
  {
   "cell_type": "code",
   "execution_count": 20,
   "metadata": {},
   "outputs": [],
   "source": [
    "predicted_digits=grid.copy()"
   ]
  },
  {
   "cell_type": "code",
   "execution_count": 21,
   "metadata": {},
   "outputs": [],
   "source": [
    "solver.solve_sudoku(predicted_digits)"
   ]
  },
  {
   "cell_type": "code",
   "execution_count": 22,
   "metadata": {},
   "outputs": [
    {
     "data": {
      "text/plain": [
       "[[5, 3, 4, 6, 7, 8, 9, 1, 2],\n",
       " [6, 7, 2, 1, 9, 5, 3, 4, 8],\n",
       " [1, 9, 8, 3, 4, 2, 5, 6, 7],\n",
       " [8, 5, 9, 7, 6, 1, 4, 2, 3],\n",
       " [4, 2, 6, 8, 5, 3, 7, 9, 1],\n",
       " [7, 1, 3, 9, 2, 4, 8, 5, 6],\n",
       " [9, 6, 1, 5, 3, 7, 2, 8, 4],\n",
       " [2, 8, 7, 4, 1, 9, 6, 3, 5],\n",
       " [3, 4, 5, 2, 8, 6, 1, 7, 9]]"
      ]
     },
     "execution_count": 22,
     "metadata": {},
     "output_type": "execute_result"
    }
   ],
   "source": [
    "predicted_digits"
   ]
  },
  {
   "cell_type": "code",
   "execution_count": 24,
   "metadata": {},
   "outputs": [],
   "source": [
    "result=write_solution_on_image(warp,predicted_digits,grid)\n",
    "cv2.imshow(\"Result\", result)"
   ]
  },
  {
   "cell_type": "code",
   "execution_count": 30,
   "metadata": {},
   "outputs": [],
   "source": [
    "SIZE = 9\n",
    "width = warp.shape[1] // 9\n",
    "height = warp.shape[0] // 9\n",
    "for i in range(SIZE):\n",
    "    for j in range(SIZE):\n",
    "        if grid[i][j] == 0:\n",
    "            text = str(predicted_digits[i][j])\n",
    "            off_set_x = width // 15\n",
    "            off_set_y = height // 15\n",
    "            font = cv2.FONT_HERSHEY_SIMPLEX\n",
    "            (text_height, text_width), baseLine = cv2.getTextSize(text, font, fontScale=1, thickness=3)\n",
    "            marginX = math.floor(width / 7)\n",
    "            marginY = math.floor(height / 7)\n",
    "\n",
    "            font_scale = 0.6 * min(width, height) / max(text_height, text_width)\n",
    "            text_height *= font_scale\n",
    "            text_width *= font_scale\n",
    "            bottom_left_corner_x = width*j + math.floor((width - text_width) / 2) + off_set_x\n",
    "            bottom_left_corner_y = height*(i+1) - math.floor((height - text_height) / 2) + off_set_y\n",
    "            image = cv2.putText(original_warp, text, (bottom_left_corner_x, bottom_left_corner_y), \n",
    "                                                  font, font_scale, (0,255,0), thickness=3, lineType=cv2.LINE_AA)\n",
    "        else:\n",
    "            continue"
   ]
  },
  {
   "cell_type": "code",
   "execution_count": 32,
   "metadata": {},
   "outputs": [
    {
     "data": {
      "text/plain": [
       "-1"
      ]
     },
     "execution_count": 32,
     "metadata": {},
     "output_type": "execute_result"
    }
   ],
   "source": [
    "cv2.imshow('result',image)\n",
    "cv2.waitKey(0)"
   ]
  }
 ],
 "metadata": {
  "kernelspec": {
   "display_name": "Python 3",
   "language": "python",
   "name": "python3"
  },
  "language_info": {
   "codemirror_mode": {
    "name": "ipython",
    "version": 3
   },
   "file_extension": ".py",
   "mimetype": "text/x-python",
   "name": "python",
   "nbconvert_exporter": "python",
   "pygments_lexer": "ipython3",
   "version": "3.7.6"
  },
  "toc": {
   "base_numbering": 1,
   "nav_menu": {},
   "number_sections": true,
   "sideBar": true,
   "skip_h1_title": false,
   "title_cell": "Table of Contents",
   "title_sidebar": "Contents",
   "toc_cell": false,
   "toc_position": {},
   "toc_section_display": true,
   "toc_window_display": false
  },
  "varInspector": {
   "cols": {
    "lenName": 16,
    "lenType": 16,
    "lenVar": 40
   },
   "kernels_config": {
    "python": {
     "delete_cmd_postfix": "",
     "delete_cmd_prefix": "del ",
     "library": "var_list.py",
     "varRefreshCmd": "print(var_dic_list())"
    },
    "r": {
     "delete_cmd_postfix": ") ",
     "delete_cmd_prefix": "rm(",
     "library": "var_list.r",
     "varRefreshCmd": "cat(var_dic_list()) "
    }
   },
   "types_to_exclude": [
    "module",
    "function",
    "builtin_function_or_method",
    "instance",
    "_Feature"
   ],
   "window_display": false
  }
 },
 "nbformat": 4,
 "nbformat_minor": 4
}
